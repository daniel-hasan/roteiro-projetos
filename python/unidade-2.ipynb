{
 "cells": [
  {
   "cell_type": "markdown",
   "metadata": {},
   "source": [
    "# Condicionais, Vetores e Estruturas de Repetição"
   ]
  },
  {
   "cell_type": "markdown",
   "metadata": {},
   "source": [
    "### Aquecimento\n",
    "##### Exercício 0.1\n",
    "\n",
    "Continue a implementação da função  `entendendo_para_cada`, recebendo um vetor `vetor_elementos` e uma variável `elemento_busca`, utilizando o `for in` para contabilizar as vezes que o `elemento_busca` apareceu no `vetor_elementos`\n",
    "\n",
    "Chame a função e imprima o resultado em testes.\n",
    "\n",
    "PS: Troque o \"pass\" para o código correto"
   ]
  },
  {
   "cell_type": "code",
   "execution_count": null,
   "metadata": {},
   "outputs": [],
   "source": [
    "from typing import List\n",
    "def entendendo_para_cada(vetor_elementos:List, elemento_busca) -> int: \n",
    "    quantidade_elementos = 0\n",
    "    \n",
    "    for elemento in vetorElementos:\n",
    "        pass\n",
    "    \n",
    "    return quantidade_elementos"
   ]
  },
  {
   "cell_type": "code",
   "execution_count": null,
   "metadata": {},
   "outputs": [],
   "source": [
    "#testes\n",
    "vetor = [1,2,3,4,1,5,6,1]\n",
    "elementoBusca = 1\n",
    "\n",
    "qtd = entendendo_para_cada(vetor, elementoBusca)\n",
    "print(f\"quantidde: {qtd}\")\n",
    "#faça mais 2 testes"
   ]
  },
  {
   "cell_type": "markdown",
   "metadata": {},
   "source": [
    "##### Exercício 0.2\n",
    "\n",
    "A função `obtem_mes` recebe de parâmetro um número do mês (1 ao 12) e deve retornar o nome do mês escolhido. Substitua os valores `None` pelos corretos na função `obtem_mes`.\n",
    "\n",
    "Não altere o vetor `meses`, apenas altere o que tiver referido como `None` e faça testes com meses válidos e inválidos, imprimindo-os na tela\n"
   ]
  },
  {
   "cell_type": "code",
   "execution_count": null,
   "metadata": {},
   "outputs": [],
   "source": [
    "def obtem_mes(num_mes):\n",
    "    if(num_mes < None and num_mes > None):\n",
    "        return (f\"{numMes} é inválido\")\n",
    "    \n",
    "    meses = [\n",
    "        \"janeiro\",\n",
    "        \"fevereiro\",\n",
    "        \"março\",\n",
    "        \"abril\",\n",
    "        \"maio\",\n",
    "        \"junho\",\n",
    "        \"julho\",\n",
    "        \"agosto\",\n",
    "        \"setembro\",\n",
    "        \"outubro\",\n",
    "        \"novembro\",\n",
    "        \"dezembro\"\n",
    "    ]\n",
    "    \n",
    "    return meses[None]"
   ]
  },
  {
   "cell_type": "code",
   "execution_count": null,
   "metadata": {},
   "outputs": [],
   "source": [
    "#testes\n",
    "mes = obtem_mes(1)\n",
    "print(f\"Mês: {mes}\")\n",
    "#imprima o mes\n",
    "\n",
    "obtem_mes(15)"
   ]
  },
  {
   "cell_type": "markdown",
   "metadata": {},
   "source": [
    "### Exercício  1: Velocidade e altura da bola em vários instantes t\n",
    "Implemente a função `velocidade_altura_bola` que recebe como parâmetro a gravidade `g`, a velocidade inicial `v` e um valor inteiro `n`, e com isso, imprime a altura *h(t)* e a velocidade *v(t)* da bola variando t de 0 até `n`.\n",
    "\n",
    "Compie e cole aqui também as funções implementadas no exercício 1 e 2 e faça t para variar de 1 até n."
   ]
  },
  {
   "cell_type": "code",
   "execution_count": null,
   "metadata": {},
   "outputs": [],
   "source": [
    "#implemente sua função aqui!\n",
    "\n",
    "#adicione as funções do exercicio 1 e 2 da unidade 1\n",
    "\n",
    "\n",
    "#implemente a função aqui!\n",
    "def velocidade_altura_bola(velocidade_inicial, gravidade, n):\n",
    "    pass\n",
    "\n"
   ]
  },
  {
   "cell_type": "code",
   "execution_count": null,
   "metadata": {},
   "outputs": [],
   "source": [
    "#testes\n",
    "n = 20\n",
    "bola = velocidade_altura_bola(9.81, 50, n)"
   ]
  },
  {
   "cell_type": "markdown",
   "metadata": {},
   "source": [
    "### Exercício 2: Somatório\n",
    "Implemente a função *somatorio* que recebe como parâmetro um valor inteiro n e fará o seguinte cálculo: $S = \\frac{i}{2} + \\frac{1}{4} + \\frac{1}{6} + ... + \\frac{1}{n}$. Logo após, retorne o resultado S.\n",
    "\n",
    "Lembre-se de como criar um laço *for* [nesses slides (1/3)](https://daniel-hasan.github.io/cefet-web-grad/classes/python1/#18)\n",
    "\n",
    "\n"
   ]
  },
  {
   "cell_type": "code",
   "execution_count": null,
   "metadata": {},
   "outputs": [],
   "source": [
    "#implemente sua função aqui!\n"
   ]
  },
  {
   "cell_type": "code",
   "execution_count": null,
   "metadata": {},
   "outputs": [],
   "source": [
    "#testes\n",
    "som_1 = somatorio(1)\n",
    "som_2 = somatorio(10)\n",
    "som_3 = somatorio(100)\n",
    "\n",
    "#imprima soma_1, soma_2 e soma_3\n",
    "\n"
   ]
  },
  {
   "cell_type": "markdown",
   "metadata": {},
   "source": [
    "### Exercício 3: Posição de um elemento no vetor\n",
    "Implemente a função *obtem_posicao_elemento* que recebe como parâmetro um vetor e um elemento, a função retorna a posição da primeira ocorrência do mesmo. Caso não exista, retorne *null*. A função deve funcionar para qualquer tamanho de vetor.\n",
    "\n",
    "Exemplo: considere o vetor *v = [\"a\", \"b\", \"c\"]*, caso exercutarmos *obtem_posicao_elemento(v, \"b\")*, o retorno deverá ser 1.\n"
   ]
  },
  {
   "cell_type": "code",
   "execution_count": null,
   "metadata": {},
   "outputs": [],
   "source": [
    "#implemente sua função aqui!\n",
    "\n"
   ]
  },
  {
   "cell_type": "code",
   "execution_count": null,
   "metadata": {},
   "outputs": [],
   "source": [
    "#teste\n",
    "cores = [\"azul\", \"roxo\", \"verde\", \"rosa\", \"azul\"]\n",
    "\n",
    "posicao1 = obtem_posicao_elemento(cores, \"azul\") #deve retornar 0\n",
    "posicao2 = obtem_posicao_elemento(cores, \"rosa\") #deve retornar 3\n",
    "\n",
    "#imprima abaixo as posições"
   ]
  },
  {
   "cell_type": "markdown",
   "metadata": {},
   "source": [
    "### Exercício 4: Operações com vetores\n",
    "Implemente a função `operacao_vetor` que recebe como parâmetro um vetor de números e retorna a seguinte conta: $\\frac{min+max}{2}$, onde *min* é o menor valor do vetor e *max* é o maior valor do vetor. A função deve funcionar para qualquer tamanho de vetor.\n",
    "\n",
    "Caso o vetor seja vazio, deve-se retornar zero. "
   ]
  },
  {
   "cell_type": "code",
   "execution_count": null,
   "metadata": {},
   "outputs": [],
   "source": [
    "#implemente sua função aqui!\n",
    "\n"
   ]
  },
  {
   "cell_type": "code",
   "execution_count": null,
   "metadata": {},
   "outputs": [],
   "source": [
    "#testes\n",
    "vetor = [4, 6, 7, 12, 9]\n",
    "\n",
    "resultado = operacao_vetor(vetor)#Deve retornar o resultado de (4+12)/2\n",
    "\n",
    "#imprima o resultado"
   ]
  },
  {
   "cell_type": "markdown",
   "metadata": {},
   "source": [
    "### Exercício 7: Sequência de Fibonacci 👑\n",
    "A [sequência de Fibonacci](https://pt.wikipedia.org/wiki/Sequ%C3%AAncia_de_Fibonacci) é uma famosa sucessão de número, começando por 0 e, na qual, cada termo subsequente corresponde À soma dos dois anteriores. Ex: os sete primeiros elementos da sequência são (0, 1, 1, 2, 3, 5, 8).\n",
    "\n",
    "Implemente a função *fibonacci*, você não deve criar mais variáveis, apenas adicionar elementos ao vetor. Essa função rececbe como parâmetro um número inteiro n e retorna um vetor com os n primeiros elementos da sequência de Fibonacci. Exemplo: fibonacci(7) -> [0, 1, 1, 2, 3, 5, 8]\n",
    "\n",
    "Você pode considerar que o parâmetro de entrada sempre será maior que 2, então lembre-se que você pode [adicionar elementos a um vetor](https://docs.python.org/3.5/tutorial/datastructures.html#more-on-lists), seja no início ou no final. Além disso, lembre-se também do [uso do range](https://daniel-hasan.github.io/cefet-web-grad/classes/python1/#18).\n",
    "\n",
    "PS: Lembre-se de sempre rodar a função antes e trocar os null"
   ]
  },
  {
   "cell_type": "code",
   "execution_count": null,
   "metadata": {},
   "outputs": [],
   "source": [
    "def fibonacci(tamanho_sequencia):\n",
    "    array_sequencia = [0,1]\n",
    "    \n",
    "    return array_sequencia"
   ]
  },
  {
   "cell_type": "code",
   "execution_count": null,
   "metadata": {},
   "outputs": [],
   "source": [
    "#testes! Crie mais e lembre-se de imprimir-los\n",
    "seq_1 = fibonacci(10)"
   ]
  },
  {
   "attachments": {
    "Screenshot%20from%202021-03-10%2011-52-08.png": {
     "image/png": "[encoded data removed]"
    }
   },
   "cell_type": "markdown",
   "metadata": {},
   "source": [
    "### Exercício 8: Rede Social 👑\n",
    "Você irá fazer uma rede social por meio de um vetor de pessoas *pessoas* e matriz *amizades*, similar ao apresentado abaixo:\n",
    "![Screenshot%20from%202021-03-10%2011-52-08.png](attachment:Screenshot%20from%202021-03-10%2011-52-08.png)\n",
    "\n",
    "em que, na matriz *amizades*, cada linha e coluna correspondem a pessoas que podem manter uma relação de amizade entre si. Além disso, a pessoas da i-ésima linha (e coluna!) corresponde a mesma pessoa na posição i no vetor *pessoas*. Exemplo, a pessoa na linha 0 (e coluna 0) é *Alice*, da mesma forma, a pessoa na linha e coluna 2 é a *Carol*.\n",
    "\n",
    "Nesta matriz o valor é 1 caso uma pessoa, representada na linha, e amiga da pessoa representada pela coluna. Por exemplo, *Alice* é amiga apenas de *Danielle* (veja a linha 0). Nesta rede social (assim como na vida 💁) pode ocorrer falta de reciprocidade entre as amizades, por exemplo: *Bob* é amigo de *Alice* mas *Alice* não é amiga de *Bob*.\n",
    "\n",
    "Aqui vai duas funções que você deverá fazer e testá-las por meio da matriz e vetor:\n",
    "\n",
    "- `exibe_amigos`: por meio do vetor *pessoas*, matriz *amizades* e o nome de uma pessoa, exibe o amigos desta pessoa. Você deverá armazenar esta lista de amigos em um vetor e retorná-lo.\n",
    "\n",
    "- `exibe_amigos_em_comum`: por meio do vetor *pessoas*, da matriz *amizades* e do nome de uma pessoa X e uma pessoa Y, exibe os amigos em comum entre essas duas pessoas. Você deverá armazenar essa lista de amigos em comum em um vetor e retorná-lo.\n",
    "\n",
    "Lembre-se de imprimir todas as saídas de forma que fique claro de qual entrada ela representa. A função *obtem_posicao_elemento* (exercício 3) poderá ajudar, porém *CHAME-A* e *não implemente novamente*.\n"
   ]
  },
  {
   "cell_type": "code",
   "execution_count": null,
   "metadata": {},
   "outputs": [],
   "source": [
    "#implemente sua função aqui!\n",
    "\n",
    "def exibe_amigos(pessoas, amizades, nome_pessoa):\n",
    "    pass\n",
    "\n",
    "def exibe_amigos_em_comum(pessoas, amizades, nome_pessoa_1, nome_pessoa_2):\n",
    "    pass\n",
    "\n",
    "\n"
   ]
  },
  {
   "cell_type": "code",
   "execution_count": null,
   "metadata": {},
   "outputs": [],
   "source": [
    "#crie os testes aqui!\n",
    "\n",
    "pessoas = [\"Alice\",\"Bob\",\"Carol\"]\n",
    "amizades = [[0,1,0],\n",
    "           [1,1,0],\n",
    "            [1,1,0]]\n",
    "\n",
    "amigos = exibe_amigos(pessoas, amizades,\"Bob\")\n",
    "print(f\"Amigos de Bob: {amigos}\")\n",
    "\n",
    "#Faça mais testes para exibe_amigos e para exibe_amigos_em_comum"
   ]
  }
 ],
 "metadata": {
  "kernelspec": {
   "display_name": "Python 3",
   "language": "python",
   "name": "python3"
  },
  "language_info": {
   "codemirror_mode": {
    "name": "ipython",
    "version": 3
   },
   "file_extension": ".py",
   "mimetype": "text/x-python",
   "name": "python",
   "nbconvert_exporter": "python",
   "pygments_lexer": "ipython3",
   "version": "3.6.9"
  }
 },
 "nbformat": 4,
 "nbformat_minor": 2
}
