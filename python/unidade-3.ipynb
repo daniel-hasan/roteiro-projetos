{
 "cells": [
  {
   "cell_type": "markdown",
   "metadata": {},
   "source": [
    "# Mais sobre funções e Métodos úteis"
   ]
  },
  {
   "cell_type": "markdown",
   "metadata": {},
   "source": [
    "### Aquecimento\n",
    "##### Exercício 0.1\n",
    "Implemente a função *metodos_vetor* que recebe como parâmetro um vetor e retorna o próprio, porém com as seguintes modificações:\n",
    "- Ordene o vetor de forma crescente\n",
    "- Remova o último elemento do vetor (quando já ordenado)\n",
    "- Insira a palavra *abacate* no início\n",
    "- Retorne o vetor resultante\n",
    "\n",
    "DICA! Consulte a [documentação](https://docs.python.org/3.5/tutorial/datastructures.html#more-on-lists) ou os [slides](https://daniel-hasan.github.io/cefet-web-grad/classes/python2/#4) para ver métodos para listas "
   ]
  },
  {
   "cell_type": "code",
   "execution_count": null,
   "metadata": {},
   "outputs": [],
   "source": [
    "#implemente aqui sua função!\n",
    "\n"
   ]
  },
  {
   "cell_type": "code",
   "execution_count": null,
   "metadata": {},
   "outputs": [],
   "source": [
    "#faça os testes aqui!\n",
    "\n",
    "vetor_str = [\"uva\", \"maçã\", \"abacaxi\", \"pera\"]\n",
    "\n",
    "\n",
    "vetor_final = metodos_vetor(vetor_str)\n",
    "print(vetor_final)"
   ]
  },
  {
   "cell_type": "markdown",
   "metadata": {},
   "source": [
    "##### Exercício 0.2\n",
    "Implemente a função *metodos_string* que recebe como parâmetro uma string e a retorna com as seguintes modificações:\n",
    "- Deixá-la toda maiúscula\n",
    "- Substituir todas as letras \"o\" por \"a\". Veja o método [replace](https://docs.python.org/3.5/library/stdtypes.html#string-methods) será útil \n",
    "- Escreva a string resultante\n",
    "\n",
    "DICA! Consulte a [documentação](https://docs.python.org/3.5/library/stdtypes.html#string-methods) ou os [slides](https://daniel-hasan.github.io/cefet-web-grad/classes/python2/#5) para ver métodos para strings. "
   ]
  },
  {
   "cell_type": "code",
   "execution_count": null,
   "metadata": {},
   "outputs": [],
   "source": [
    "#implemente sua função aqui!"
   ]
  },
  {
   "cell_type": "code",
   "execution_count": null,
   "metadata": {},
   "outputs": [],
   "source": [
    "str_1 = \"comemoração\"\n",
    "str_2 = \"olho\"\n",
    "\n",
    "#faça os testes aqui!"
   ]
  },
  {
   "cell_type": "markdown",
   "metadata": {},
   "source": [
    "### Exercício 1: Conversão de datas\n",
    "Implemente a função *converte_data* que recebe como parâmetro uma data no formato DD/MM/YYYY (ex: 09/03/2021) e converte para o formato por extenso \"DD de M de YYYY\" (ou seja, 09 de março de 2020) e escreva-a.\n",
    "\n",
    "Adiciona abaixo a função *obtem_mes* implementada no exercício 0.2 (unidade 2) para te auxiliar. Além disso, [o método split](https://www.w3schools.com/python/ref_string_split.asp) será útil também."
   ]
  },
  {
   "cell_type": "code",
   "execution_count": null,
   "metadata": {},
   "outputs": [],
   "source": [
    "#implemente sua função aqui!"
   ]
  },
  {
   "cell_type": "code",
   "execution_count": null,
   "metadata": {},
   "outputs": [],
   "source": [
    "data_1 = \"31/10/2020\"\n",
    "data_2 = \"22/01/2004\""
   ]
  },
  {
   "cell_type": "markdown",
   "metadata": {},
   "source": [
    "### Exercício 2: Operações em string\n",
    "Nesse exercício você irá implementar duas funções que auxiliarão nos exercícios posteriores:\n",
    "\n",
    "\n",
    "- **elimina_caracteres** (2 parâmetros) Elimina todas as ocorrências dos caracteres especificados de um texto. Tanto o texto quanto os caracteres a serem removidos são passados como parâmetros. Exemplo: `elimina_caracteres('correndo contra o tempo', 'coe')` devem resultar na string `rrnd cntra tmp`. Não altere o *for* já criado! O método *.replace* pode te ajudar! consulte [documentação](https://docs.python.org/3.5/library/stdtypes.html#string-methods) ou os [slides](https://daniel-hasan.github.io/cefet-web-grad/classes/python2/#5).\n",
    "    \n",
    "DICA: Será necessario usar o *.replace* uma vez para cada caractere especificado (ou seja, dentro de um laço)."
   ]
  },
  {
   "cell_type": "code",
   "execution_count": null,
   "metadata": {},
   "outputs": [],
   "source": [
    "def elimina_caracteres(texto, caracteres_para_eliminar):\n",
    "    for caracter_eliminar in caracteres_para_eliminar:\n",
    "        pass\n",
    "    return None"
   ]
  },
  {
   "cell_type": "code",
   "execution_count": null,
   "metadata": {},
   "outputs": [],
   "source": [
    "# Faça os testes \n",
    "resultado_1 = elimina_caracteres('correndo contra o tempo', 'coe')\n",
    "resultado_2 = elimina_caracteres('trigo para tigres tristes', 'ie') #saída: trg para tgrs trsts\n",
    "\n",
    "#lembre-se de imprimir os resultados\n"
   ]
  },
  {
   "cell_type": "markdown",
   "metadata": {},
   "source": [
    "- **substitua_caracteres**: (3 parâmetros) Dado um texto, uma string de procura e uma string de reposição, sendo que a string de procura e reposição são de mesmo tamanho. Substitua no texto o caractere na posição i da string de procura pelo caractere na mesma posição i na string de reposição. O texto, os caracteres a serem procurados no texto e os caracteres a serem colocados no lugar serão passados como parâmetro.\n",
    "    \n",
    "Exemplo:  `substitua_caracteres('o sapo não lava o pé', 'aoe', 'iiu')` devem resultar na string `'i sipi nii livi i pu'`.\n",
    "    \n",
    "DICA: Será necessario usar o *.replace* uma vez para cada caractere especificado (ou seja, dentro de um laço)."
   ]
  },
  {
   "cell_type": "code",
   "execution_count": null,
   "metadata": {},
   "outputs": [],
   "source": [
    "def substitua_caracteres(texto, caracteres_procura, caracteres_substituir_por):\n",
    "    for i in range(len(caracteres_procura)):\n",
    "        caractere_procura = caracteres_procura[i]\n",
    "        caractere_substituir_por = caracteres_substituir_por[i]\n",
    "        None\n",
    "        \n",
    "    return None"
   ]
  },
  {
   "cell_type": "code",
   "execution_count": null,
   "metadata": {},
   "outputs": [],
   "source": [
    "#testes! Faça mais para verificar todos os casos.\n",
    "# Lembre-se de imprimir o resultado.\n",
    "\n",
    "resultado_1 = substitua_caracteres('o sapo não lava o pé', 'aoe', 'iiu')\n",
    "resultado_2 = substitua_caracteres('ana comprou uma ariranha', 'aoi', 'uee') #saida: unu cempreu umu urerunhu"
   ]
  },
  {
   "cell_type": "markdown",
   "metadata": {},
   "source": [
    "### Exercício 3: Palíndromos 👑\n",
    "Segundo a [Oxford Languages](https://languages.oup.com/google-dictionary-pt/), *plaíndromos* são testos que se pode ler, indiferentemente, da esquerda para a direita ou vice-versa. Por exemplo: \"arara\", \"asa\", \"mirim\"... E também as frases: \"A cara rajada da jararaca\", \"Socorram-me, subi no ônivus em Marrocos\"...Perceba que, em frases, deve-se ignorar a pontuação, acentuação, espaços e maiúsculas/minúsculas.\n",
    "\n",
    "Implemente a função *verifica_palindromo* que recebe como parâmetro uma string (texto ou única palavra) e retorna *true* caso o parâmetro seja um palíndromo ou *false*, caso contrário. \n",
    "\n",
    "As funções do exercício anterior podem lhe ajudar para processamento de string, para isso *chame-as* e *não implemente-as*. Ignore as seguintes pontuações: `, - ! ?` e o espaço em branco. Além disso, acentos agudos, til e circunflexo em vogais devem ser ignorados.\n"
   ]
  },
  {
   "cell_type": "code",
   "execution_count": null,
   "metadata": {},
   "outputs": [],
   "source": [
    "#implemete sua função aqui!\n",
    "def verifica_palindromo(texto:str)->bool:\n",
    "    pass"
   ]
  },
  {
   "cell_type": "code",
   "execution_count": null,
   "metadata": {},
   "outputs": [],
   "source": [
    "#testes\n",
    "verifica_palindromo(\"após a sopa\") \n",
    "verifica_palindromo(\"azul\")"
   ]
  },
  {
   "cell_type": "markdown",
   "metadata": {},
   "source": [
    "## Funções como parâmetro\n",
    "Antes dos próximos exercícios aqui está um tutorialzinho de como é possível utilizar funçôes como parâmetro, método de função anônima (*lambda*) ou padrão\n",
    "\n",
    "Para mais informações entre nesse [site](http://pythonclub.com.br/progrmacao-funcional-com-python-1.html) ou na [documentação](https://docs.python.org/3.5/howto/functional.html#small-functions-and-the-lambda-expression)"
   ]
  },
  {
   "cell_type": "code",
   "execution_count": null,
   "metadata": {},
   "outputs": [],
   "source": [
    "func_anonima = lambda x: x\n",
    "\n",
    "def func_padrao(x):\n",
    "    return x+2\n",
    "\n",
    "fa = func_anonima\n",
    "print(fa(2))\n",
    "\n",
    "fp = func_padrao\n",
    "print(fp(2))"
   ]
  },
  {
   "cell_type": "markdown",
   "metadata": {},
   "source": [
    "### Exercício 4: Funções como parâmetro 1\n",
    "Em Python podemos passar as funções como parâmetro -valor de uma variável- e vamos treinar isso (consulte o tutorial no bloco de código anterior).\n",
    "\n",
    "Veja a função *da_oi_para* é uma função que imprime uma \"interface de dar oi\" para determinada pessoa. A forma de se dar oi é controlado pelo parâmetro *função_de_dar_oi*, que é uma função que recebe o nome da pessoa e é responsável por retorna uma string com o \"oi\" devidamente escrito em seu idioma. Além desse parâmetro, a função *da_oi_para* espera o nome da pessoa. No bloco abaixo temos sua implementação, repare tambpem nas vezes que ela foi invocada."
   ]
  },
  {
   "cell_type": "code",
   "execution_count": null,
   "metadata": {},
   "outputs": [],
   "source": [
    "def da_oi_para(funcao_de_dar_oi, str_pessoa):\n",
    "    #independente do nome da função externa, invocamos ela como funcao_de_dar_oi\n",
    "    str_oi = funcao_de_dar_oi(str_pessoa)\n",
    "    \n",
    "    print(\"============= Minha linda interface de dar oi =========\")\n",
    "    print(str_oi)\n",
    "    print(\"=========================================================\")"
   ]
  },
  {
   "cell_type": "code",
   "execution_count": null,
   "metadata": {},
   "outputs": [],
   "source": [
    "def oi_portugues_formal(str_pessoa):\n",
    "    return f\"Oi Sr(a). {str_pessoa}, como vai?\"\n",
    "\n",
    "oi_portugues = lambda str_pessoa : f\"Oi {str_pessoa}, blza?\""
   ]
  },
  {
   "cell_type": "code",
   "execution_count": null,
   "metadata": {},
   "outputs": [],
   "source": [
    "da_oi_para(oi_portugues_formal, \"Pessoinha\")\n",
    "da_oi_para(oi_portugues, \"Pessoinha\")\n",
    "da_oi_para(lambda str_pessoa : f\"Hi {str_pessoa}, how are you?\", \"Pessoinha\")"
   ]
  },
  {
   "cell_type": "markdown",
   "metadata": {},
   "source": [
    "Invoque a função *da_oi_para* em que o parâmetro *funcao_de_dar_oi* será uma função criada por você. Lembre-se que ela deve obrigatóriamente possuir o parâmetro do nome da pessoa e retorna uma *string*.\n",
    "\n",
    "Crie, pelo menos, a função de três formas diferentes, tal como o exemplo\n",
    "\n",
    "PS: Lembre-se de sempre rodar a função antes e trocar os null"
   ]
  },
  {
   "cell_type": "code",
   "execution_count": null,
   "metadata": {},
   "outputs": [],
   "source": [
    "#implemente sua função aqui!"
   ]
  },
  {
   "cell_type": "code",
   "execution_count": null,
   "metadata": {},
   "outputs": [],
   "source": [
    "#testes! Faça mais de um para testar todas as funções"
   ]
  },
  {
   "attachments": {
    "Screenshot%20from%202021-03-10%2015-05-05.png": {
     "image/png": "[encoded data removed]"
    }
   },
   "cell_type": "markdown",
   "metadata": {},
   "source": [
    "### Exercício 5: Funções como parâmetro 2\n",
    "Você irá implementar a função *executa_operacao_vetor* que recebe como parâmetro uma operação (função) e dois vetores, *vetor1* e *vetor2*, de mesmo tamanho, e executa uma operação entre os elementos da mesma posição deste vetor. \n",
    "Esta operação é uma função que será chamada para cada posição deste vetor (ex: *operacao(vetor1[i], vetor2[i])*) e retornará o resultado desta operação. Caso os dois vetores sejam de tamanho diferentes, deve-se exibir uma *mensagem de erro* e não realizar a operação.\n",
    "\n",
    "Veja o exemplo abaixo, considerando a operação soma (implementada no exercício 0.2).\n",
    "\n",
    "![Screenshot%20from%202021-03-10%2015-05-05.png](attachment:Screenshot%20from%202021-03-10%2015-05-05.png)\n",
    "\n",
    "Você deverá implementar a função *executa_operacao_vetor* e três operações distintas (por exemplo, *soma(a, b)*, *multiplica(a, b)* e *subtrai(a, b)*), cada uma, criando uma função de uma forma diferente, siga o tutorial e o exercício anterior.\n",
    "\n",
    "PS: Lembre-se de sempre rodar a função antes e trocar os null"
   ]
  },
  {
   "cell_type": "code",
   "execution_count": null,
   "metadata": {},
   "outputs": [],
   "source": [
    "#implemente sua função aqui!"
   ]
  },
  {
   "cell_type": "code",
   "execution_count": null,
   "metadata": {},
   "outputs": [],
   "source": [
    "#testes! Lembre-se de testar todas as funções e imprimir o resultado"
   ]
  }
 ],
 "metadata": {
  "kernelspec": {
   "display_name": "Python 3",
   "language": "python",
   "name": "python3"
  },
  "language_info": {
   "codemirror_mode": {
    "name": "ipython",
    "version": 3
   },
   "file_extension": ".py",
   "mimetype": "text/x-python",
   "name": "python",
   "nbconvert_exporter": "python",
   "pygments_lexer": "ipython3",
   "version": "3.6.9"
  }
 },
 "nbformat": 4,
 "nbformat_minor": 2
}
